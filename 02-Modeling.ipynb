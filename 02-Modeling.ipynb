{
 "cells": [
  {
   "cell_type": "code",
   "execution_count": 1,
   "id": "b7edf98a-391f-4f25-b75a-566a74bd427f",
   "metadata": {},
   "outputs": [],
   "source": [
    "# Imports\n",
    "import numpy as np\n",
    "import pandas as pd\n",
    "import matplotlib.pyplot as plt\n",
    "import seaborn as sns\n",
    "\n",
    "#NLP Imports\n",
    "from nltk.tokenize import sent_tokenize, word_tokenize, RegexpTokenizer\n",
    "\n",
    "from sklearn.feature_extraction.text import CountVectorizer, TfidfVectorizer\n",
    "\n",
    "from sklearn.model_selection import train_test_split, GridSearchCV\n",
    "from sklearn.pipeline import Pipeline\n",
    "from sklearn.metrics import ConfusionMatrixDisplay, RocCurveDisplay, confusion_matrix, classification_report\n",
    "\n",
    "from sklearn.linear_model import LogisticRegression\n",
    "from sklearn.naive_bayes import MultinomialNB"
   ]
  },
  {
   "cell_type": "code",
   "execution_count": 2,
   "id": "c26fe4ba-ab55-4128-a65b-fc8507cce7c3",
   "metadata": {},
   "outputs": [
    {
     "data": {
      "text/html": [
       "<div>\n",
       "<style scoped>\n",
       "    .dataframe tbody tr th:only-of-type {\n",
       "        vertical-align: middle;\n",
       "    }\n",
       "\n",
       "    .dataframe tbody tr th {\n",
       "        vertical-align: top;\n",
       "    }\n",
       "\n",
       "    .dataframe thead th {\n",
       "        text-align: right;\n",
       "    }\n",
       "</style>\n",
       "<table border=\"1\" class=\"dataframe\">\n",
       "  <thead>\n",
       "    <tr style=\"text-align: right;\">\n",
       "      <th></th>\n",
       "      <th>review</th>\n",
       "      <th>sentiment</th>\n",
       "      <th>review_clean</th>\n",
       "    </tr>\n",
       "  </thead>\n",
       "  <tbody>\n",
       "    <tr>\n",
       "      <th>0</th>\n",
       "      <td>One of the other reviewers has mentioned that ...</td>\n",
       "      <td>positive</td>\n",
       "      <td>one of the other reviewers has mentioned that ...</td>\n",
       "    </tr>\n",
       "    <tr>\n",
       "      <th>1</th>\n",
       "      <td>A wonderful little production. &lt;br /&gt;&lt;br /&gt;The...</td>\n",
       "      <td>positive</td>\n",
       "      <td>a wonderful little production the filming tech...</td>\n",
       "    </tr>\n",
       "    <tr>\n",
       "      <th>2</th>\n",
       "      <td>I thought this was a wonderful way to spend ti...</td>\n",
       "      <td>positive</td>\n",
       "      <td>i thought this was a wonderful way to spend ti...</td>\n",
       "    </tr>\n",
       "    <tr>\n",
       "      <th>3</th>\n",
       "      <td>Basically there's a family where a little boy ...</td>\n",
       "      <td>negative</td>\n",
       "      <td>basically there s a family where a little boy ...</td>\n",
       "    </tr>\n",
       "    <tr>\n",
       "      <th>4</th>\n",
       "      <td>Petter Mattei's \"Love in the Time of Money\" is...</td>\n",
       "      <td>positive</td>\n",
       "      <td>petter mattei s love in the time of money is a...</td>\n",
       "    </tr>\n",
       "    <tr>\n",
       "      <th>...</th>\n",
       "      <td>...</td>\n",
       "      <td>...</td>\n",
       "      <td>...</td>\n",
       "    </tr>\n",
       "    <tr>\n",
       "      <th>49995</th>\n",
       "      <td>I thought this movie did a down right good job...</td>\n",
       "      <td>positive</td>\n",
       "      <td>i thought this movie did a down right good job...</td>\n",
       "    </tr>\n",
       "    <tr>\n",
       "      <th>49996</th>\n",
       "      <td>Bad plot, bad dialogue, bad acting, idiotic di...</td>\n",
       "      <td>negative</td>\n",
       "      <td>bad plot bad dialogue bad acting idiotic direc...</td>\n",
       "    </tr>\n",
       "    <tr>\n",
       "      <th>49997</th>\n",
       "      <td>I am a Catholic taught in parochial elementary...</td>\n",
       "      <td>negative</td>\n",
       "      <td>i am a catholic taught in parochial elementary...</td>\n",
       "    </tr>\n",
       "    <tr>\n",
       "      <th>49998</th>\n",
       "      <td>I'm going to have to disagree with the previou...</td>\n",
       "      <td>negative</td>\n",
       "      <td>i m going to have to disagree with the previou...</td>\n",
       "    </tr>\n",
       "    <tr>\n",
       "      <th>49999</th>\n",
       "      <td>No one expects the Star Trek movies to be high...</td>\n",
       "      <td>negative</td>\n",
       "      <td>no one expects the star trek movies to be high...</td>\n",
       "    </tr>\n",
       "  </tbody>\n",
       "</table>\n",
       "<p>50000 rows × 3 columns</p>\n",
       "</div>"
      ],
      "text/plain": [
       "                                                  review sentiment  \\\n",
       "0      One of the other reviewers has mentioned that ...  positive   \n",
       "1      A wonderful little production. <br /><br />The...  positive   \n",
       "2      I thought this was a wonderful way to spend ti...  positive   \n",
       "3      Basically there's a family where a little boy ...  negative   \n",
       "4      Petter Mattei's \"Love in the Time of Money\" is...  positive   \n",
       "...                                                  ...       ...   \n",
       "49995  I thought this movie did a down right good job...  positive   \n",
       "49996  Bad plot, bad dialogue, bad acting, idiotic di...  negative   \n",
       "49997  I am a Catholic taught in parochial elementary...  negative   \n",
       "49998  I'm going to have to disagree with the previou...  negative   \n",
       "49999  No one expects the Star Trek movies to be high...  negative   \n",
       "\n",
       "                                            review_clean  \n",
       "0      one of the other reviewers has mentioned that ...  \n",
       "1      a wonderful little production the filming tech...  \n",
       "2      i thought this was a wonderful way to spend ti...  \n",
       "3      basically there s a family where a little boy ...  \n",
       "4      petter mattei s love in the time of money is a...  \n",
       "...                                                  ...  \n",
       "49995  i thought this movie did a down right good job...  \n",
       "49996  bad plot bad dialogue bad acting idiotic direc...  \n",
       "49997  i am a catholic taught in parochial elementary...  \n",
       "49998  i m going to have to disagree with the previou...  \n",
       "49999  no one expects the star trek movies to be high...  \n",
       "\n",
       "[50000 rows x 3 columns]"
      ]
     },
     "execution_count": 2,
     "metadata": {},
     "output_type": "execute_result"
    }
   ],
   "source": [
    "df = pd.read_csv('../project-5/clean_df.csv')\n",
    "df"
   ]
  },
  {
   "cell_type": "markdown",
   "id": "7157015b-b5ce-4fce-be43-7399c456aca8",
   "metadata": {},
   "source": [
    "#### Y is sentiment, coded as 1 for positive and 0 for negative"
   ]
  },
  {
   "cell_type": "code",
   "execution_count": 3,
   "id": "13ffcb66-ecc0-41bd-8449-95971595d875",
   "metadata": {
    "scrolled": true
   },
   "outputs": [
    {
     "data": {
      "text/plain": [
       "0        1\n",
       "1        1\n",
       "2        1\n",
       "3        0\n",
       "4        1\n",
       "        ..\n",
       "49995    1\n",
       "49996    0\n",
       "49997    0\n",
       "49998    0\n",
       "49999    0\n",
       "Name: sentiment, Length: 50000, dtype: int64"
      ]
     },
     "execution_count": 3,
     "metadata": {},
     "output_type": "execute_result"
    }
   ],
   "source": [
    "y = df['sentiment'].map({'positive' : 1, 'negative' : 0})\n",
    "y"
   ]
  },
  {
   "cell_type": "code",
   "execution_count": 4,
   "id": "d237f316-eaf7-4c51-8fe1-3ec6a039d5f3",
   "metadata": {},
   "outputs": [
    {
     "data": {
      "text/plain": [
       "0        one of the other reviewers has mentioned that ...\n",
       "1        a wonderful little production the filming tech...\n",
       "2        i thought this was a wonderful way to spend ti...\n",
       "3        basically there s a family where a little boy ...\n",
       "4        petter mattei s love in the time of money is a...\n",
       "                               ...                        \n",
       "49995    i thought this movie did a down right good job...\n",
       "49996    bad plot bad dialogue bad acting idiotic direc...\n",
       "49997    i am a catholic taught in parochial elementary...\n",
       "49998    i m going to have to disagree with the previou...\n",
       "49999    no one expects the star trek movies to be high...\n",
       "Name: review_clean, Length: 50000, dtype: object"
      ]
     },
     "execution_count": 4,
     "metadata": {},
     "output_type": "execute_result"
    }
   ],
   "source": [
    "X = df['review_clean'] #Doesn't need 2 [[]] brackets\n",
    "X"
   ]
  },
  {
   "cell_type": "code",
   "execution_count": 5,
   "id": "42a24e4f-1b07-4724-8b58-26b0e0bcea11",
   "metadata": {},
   "outputs": [
    {
     "data": {
      "text/plain": [
       "((37500,), (12500,), (37500,), (12500,))"
      ]
     },
     "execution_count": 5,
     "metadata": {},
     "output_type": "execute_result"
    }
   ],
   "source": [
    "X_train, X_test, y_train, y_test = train_test_split(X, y, random_state = 42, stratify = y)\n",
    "X_train.shape, X_test.shape, y_train.shape, y_test.shape"
   ]
  },
  {
   "cell_type": "code",
   "execution_count": 6,
   "id": "1a611de6-e1f1-42f9-9081-95a7918a3204",
   "metadata": {},
   "outputs": [
    {
     "data": {
      "text/plain": [
       "17949    i just saw adam had four sons for the first ti...\n",
       "5786     i for one have shamelessly enjoyed every episo...\n",
       "42175    this movie is a journey through the mind of a ...\n",
       "39484    this was absolutely one of the best movies i v...\n",
       "34209    oh geez there are so many other films i want t...\n",
       "Name: review_clean, dtype: object"
      ]
     },
     "execution_count": 6,
     "metadata": {},
     "output_type": "execute_result"
    }
   ],
   "source": [
    "X_train.head()"
   ]
  },
  {
   "cell_type": "code",
   "execution_count": 7,
   "id": "8046875e-4ef5-4e5f-9310-bfa708ecd551",
   "metadata": {},
   "outputs": [
    {
     "data": {
      "text/plain": [
       "17949    0\n",
       "5786     1\n",
       "42175    1\n",
       "39484    1\n",
       "34209    0\n",
       "        ..\n",
       "1950     1\n",
       "22917    0\n",
       "47481    0\n",
       "35597    0\n",
       "27491    0\n",
       "Name: sentiment, Length: 37500, dtype: int64"
      ]
     },
     "execution_count": 7,
     "metadata": {},
     "output_type": "execute_result"
    }
   ],
   "source": [
    "y_train"
   ]
  },
  {
   "cell_type": "code",
   "execution_count": 8,
   "id": "c4c63959-90e6-4819-806b-457f3c227824",
   "metadata": {},
   "outputs": [],
   "source": [
    "pipe = Pipeline([\n",
    "    ('cvec', CountVectorizer() ),\n",
    "    ('lr', LogisticRegression() )\n",
    "])\n",
    "\n",
    "#Dropped None stop words, max features at 2500 and 25000 and ngram range 1,3 to have fewer fits\n",
    "pipe_params = {\n",
    "    'cvec__stop_words' : ['english'],\n",
    "    'cvec__max_features' : [5000, 10_000, 15_000, 20_000],\n",
    "    # 'cvec__min_df' : [2, 4, 8, 10, 20],\n",
    "    'cvec__ngram_range' : [ (1,1), (1,2) ],\n",
    "}"
   ]
  },
  {
   "cell_type": "code",
   "execution_count": 15,
   "id": "f63015fb-d52e-4ec4-b166-bd75597bcbbc",
   "metadata": {},
   "outputs": [
    {
     "name": "stderr",
     "output_type": "stream",
     "text": [
      "C:\\Users\\david\\anaconda3\\Lib\\site-packages\\sklearn\\linear_model\\_logistic.py:458: ConvergenceWarning: lbfgs failed to converge (status=1):\n",
      "STOP: TOTAL NO. of ITERATIONS REACHED LIMIT.\n",
      "\n",
      "Increase the number of iterations (max_iter) or scale the data as shown in:\n",
      "    https://scikit-learn.org/stable/modules/preprocessing.html\n",
      "Please also refer to the documentation for alternative solver options:\n",
      "    https://scikit-learn.org/stable/modules/linear_model.html#logistic-regression\n",
      "  n_iter_i = _check_optimize_result(\n"
     ]
    },
    {
     "data": {
      "text/html": [
       "<style>#sk-container-id-2 {color: black;background-color: white;}#sk-container-id-2 pre{padding: 0;}#sk-container-id-2 div.sk-toggleable {background-color: white;}#sk-container-id-2 label.sk-toggleable__label {cursor: pointer;display: block;width: 100%;margin-bottom: 0;padding: 0.3em;box-sizing: border-box;text-align: center;}#sk-container-id-2 label.sk-toggleable__label-arrow:before {content: \"▸\";float: left;margin-right: 0.25em;color: #696969;}#sk-container-id-2 label.sk-toggleable__label-arrow:hover:before {color: black;}#sk-container-id-2 div.sk-estimator:hover label.sk-toggleable__label-arrow:before {color: black;}#sk-container-id-2 div.sk-toggleable__content {max-height: 0;max-width: 0;overflow: hidden;text-align: left;background-color: #f0f8ff;}#sk-container-id-2 div.sk-toggleable__content pre {margin: 0.2em;color: black;border-radius: 0.25em;background-color: #f0f8ff;}#sk-container-id-2 input.sk-toggleable__control:checked~div.sk-toggleable__content {max-height: 200px;max-width: 100%;overflow: auto;}#sk-container-id-2 input.sk-toggleable__control:checked~label.sk-toggleable__label-arrow:before {content: \"▾\";}#sk-container-id-2 div.sk-estimator input.sk-toggleable__control:checked~label.sk-toggleable__label {background-color: #d4ebff;}#sk-container-id-2 div.sk-label input.sk-toggleable__control:checked~label.sk-toggleable__label {background-color: #d4ebff;}#sk-container-id-2 input.sk-hidden--visually {border: 0;clip: rect(1px 1px 1px 1px);clip: rect(1px, 1px, 1px, 1px);height: 1px;margin: -1px;overflow: hidden;padding: 0;position: absolute;width: 1px;}#sk-container-id-2 div.sk-estimator {font-family: monospace;background-color: #f0f8ff;border: 1px dotted black;border-radius: 0.25em;box-sizing: border-box;margin-bottom: 0.5em;}#sk-container-id-2 div.sk-estimator:hover {background-color: #d4ebff;}#sk-container-id-2 div.sk-parallel-item::after {content: \"\";width: 100%;border-bottom: 1px solid gray;flex-grow: 1;}#sk-container-id-2 div.sk-label:hover label.sk-toggleable__label {background-color: #d4ebff;}#sk-container-id-2 div.sk-serial::before {content: \"\";position: absolute;border-left: 1px solid gray;box-sizing: border-box;top: 0;bottom: 0;left: 50%;z-index: 0;}#sk-container-id-2 div.sk-serial {display: flex;flex-direction: column;align-items: center;background-color: white;padding-right: 0.2em;padding-left: 0.2em;position: relative;}#sk-container-id-2 div.sk-item {position: relative;z-index: 1;}#sk-container-id-2 div.sk-parallel {display: flex;align-items: stretch;justify-content: center;background-color: white;position: relative;}#sk-container-id-2 div.sk-item::before, #sk-container-id-2 div.sk-parallel-item::before {content: \"\";position: absolute;border-left: 1px solid gray;box-sizing: border-box;top: 0;bottom: 0;left: 50%;z-index: -1;}#sk-container-id-2 div.sk-parallel-item {display: flex;flex-direction: column;z-index: 1;position: relative;background-color: white;}#sk-container-id-2 div.sk-parallel-item:first-child::after {align-self: flex-end;width: 50%;}#sk-container-id-2 div.sk-parallel-item:last-child::after {align-self: flex-start;width: 50%;}#sk-container-id-2 div.sk-parallel-item:only-child::after {width: 0;}#sk-container-id-2 div.sk-dashed-wrapped {border: 1px dashed gray;margin: 0 0.4em 0.5em 0.4em;box-sizing: border-box;padding-bottom: 0.4em;background-color: white;}#sk-container-id-2 div.sk-label label {font-family: monospace;font-weight: bold;display: inline-block;line-height: 1.2em;}#sk-container-id-2 div.sk-label-container {text-align: center;}#sk-container-id-2 div.sk-container {/* jupyter's `normalize.less` sets `[hidden] { display: none; }` but bootstrap.min.css set `[hidden] { display: none !important; }` so we also need the `!important` here to be able to override the default hidden behavior on the sphinx rendered scikit-learn.org. See: https://github.com/scikit-learn/scikit-learn/issues/21755 */display: inline-block !important;position: relative;}#sk-container-id-2 div.sk-text-repr-fallback {display: none;}</style><div id=\"sk-container-id-2\" class=\"sk-top-container\"><div class=\"sk-text-repr-fallback\"><pre>Pipeline(steps=[(&#x27;cvec&#x27;, CountVectorizer()), (&#x27;lr&#x27;, LogisticRegression())])</pre><b>In a Jupyter environment, please rerun this cell to show the HTML representation or trust the notebook. <br />On GitHub, the HTML representation is unable to render, please try loading this page with nbviewer.org.</b></div><div class=\"sk-container\" hidden><div class=\"sk-item sk-dashed-wrapped\"><div class=\"sk-label-container\"><div class=\"sk-label sk-toggleable\"><input class=\"sk-toggleable__control sk-hidden--visually\" id=\"sk-estimator-id-5\" type=\"checkbox\" ><label for=\"sk-estimator-id-5\" class=\"sk-toggleable__label sk-toggleable__label-arrow\">Pipeline</label><div class=\"sk-toggleable__content\"><pre>Pipeline(steps=[(&#x27;cvec&#x27;, CountVectorizer()), (&#x27;lr&#x27;, LogisticRegression())])</pre></div></div></div><div class=\"sk-serial\"><div class=\"sk-item\"><div class=\"sk-estimator sk-toggleable\"><input class=\"sk-toggleable__control sk-hidden--visually\" id=\"sk-estimator-id-6\" type=\"checkbox\" ><label for=\"sk-estimator-id-6\" class=\"sk-toggleable__label sk-toggleable__label-arrow\">CountVectorizer</label><div class=\"sk-toggleable__content\"><pre>CountVectorizer()</pre></div></div></div><div class=\"sk-item\"><div class=\"sk-estimator sk-toggleable\"><input class=\"sk-toggleable__control sk-hidden--visually\" id=\"sk-estimator-id-7\" type=\"checkbox\" ><label for=\"sk-estimator-id-7\" class=\"sk-toggleable__label sk-toggleable__label-arrow\">LogisticRegression</label><div class=\"sk-toggleable__content\"><pre>LogisticRegression()</pre></div></div></div></div></div></div></div>"
      ],
      "text/plain": [
       "Pipeline(steps=[('cvec', CountVectorizer()), ('lr', LogisticRegression())])"
      ]
     },
     "execution_count": 15,
     "metadata": {},
     "output_type": "execute_result"
    }
   ],
   "source": [
    "pipe.fit(X_train, y_train)"
   ]
  },
  {
   "cell_type": "code",
   "execution_count": 19,
   "id": "ea83776c-56a9-4f54-b052-bb937a281582",
   "metadata": {},
   "outputs": [
    {
     "data": {
      "text/plain": [
       "0.8928"
      ]
     },
     "execution_count": 19,
     "metadata": {},
     "output_type": "execute_result"
    }
   ],
   "source": [
    "pipe.score(X_test, y_test)"
   ]
  },
  {
   "cell_type": "code",
   "execution_count": 23,
   "id": "dffeafbf-7256-43af-810a-40ac7dd65383",
   "metadata": {},
   "outputs": [
    {
     "data": {
      "text/plain": [
       "{'memory': None,\n",
       " 'steps': [('cvec', CountVectorizer()), ('lr', LogisticRegression())],\n",
       " 'verbose': False,\n",
       " 'cvec': CountVectorizer(),\n",
       " 'lr': LogisticRegression(),\n",
       " 'cvec__analyzer': 'word',\n",
       " 'cvec__binary': False,\n",
       " 'cvec__decode_error': 'strict',\n",
       " 'cvec__dtype': numpy.int64,\n",
       " 'cvec__encoding': 'utf-8',\n",
       " 'cvec__input': 'content',\n",
       " 'cvec__lowercase': True,\n",
       " 'cvec__max_df': 1.0,\n",
       " 'cvec__max_features': None,\n",
       " 'cvec__min_df': 1,\n",
       " 'cvec__ngram_range': (1, 1),\n",
       " 'cvec__preprocessor': None,\n",
       " 'cvec__stop_words': None,\n",
       " 'cvec__strip_accents': None,\n",
       " 'cvec__token_pattern': '(?u)\\\\b\\\\w\\\\w+\\\\b',\n",
       " 'cvec__tokenizer': None,\n",
       " 'cvec__vocabulary': None,\n",
       " 'lr__C': 1.0,\n",
       " 'lr__class_weight': None,\n",
       " 'lr__dual': False,\n",
       " 'lr__fit_intercept': True,\n",
       " 'lr__intercept_scaling': 1,\n",
       " 'lr__l1_ratio': None,\n",
       " 'lr__max_iter': 100,\n",
       " 'lr__multi_class': 'auto',\n",
       " 'lr__n_jobs': None,\n",
       " 'lr__penalty': 'l2',\n",
       " 'lr__random_state': None,\n",
       " 'lr__solver': 'lbfgs',\n",
       " 'lr__tol': 0.0001,\n",
       " 'lr__verbose': 0,\n",
       " 'lr__warm_start': False}"
      ]
     },
     "execution_count": 23,
     "metadata": {},
     "output_type": "execute_result"
    }
   ],
   "source": [
    "pipe.get_params()"
   ]
  },
  {
   "cell_type": "markdown",
   "id": "65bff1c1-3ddb-42e5-8553-a34716220e1b",
   "metadata": {},
   "source": [
    "# Pipeline Model Evaluation"
   ]
  },
  {
   "cell_type": "code",
   "execution_count": 25,
   "id": "27e96ad3-562c-41ef-80e3-f0773b04559c",
   "metadata": {},
   "outputs": [
    {
     "data": {
      "text/plain": [
       "(0.95904, 0.8928)"
      ]
     },
     "execution_count": 25,
     "metadata": {},
     "output_type": "execute_result"
    }
   ],
   "source": [
    "pipe.score(X_train, y_train), pipe.score(X_test, y_test)"
   ]
  },
  {
   "cell_type": "code",
   "execution_count": 27,
   "id": "f626310b-fb34-48e0-9a69-85033f859fd8",
   "metadata": {},
   "outputs": [],
   "source": [
    "pipe_pred = pipe.predict(X_test)"
   ]
  },
  {
   "cell_type": "code",
   "execution_count": 29,
   "id": "ad589626-616a-43f2-8276-c7bcdbe39454",
   "metadata": {},
   "outputs": [
    {
     "name": "stdout",
     "output_type": "stream",
     "text": [
      "Our model specificity: 0.8904 \n"
     ]
    }
   ],
   "source": [
    "true_neg, false_pos, false_neg, true_pos = confusion_matrix(y_test, pipe_pred).ravel()\n",
    "\n",
    "# Specificity\n",
    "\n",
    "specificity = true_neg / (true_neg + false_pos)\n",
    "print(f'Our model specificity: {specificity} ')"
   ]
  },
  {
   "cell_type": "code",
   "execution_count": 30,
   "id": "2313ebc8-5c3b-4168-b2f6-ac0307b76987",
   "metadata": {},
   "outputs": [
    {
     "data": {
      "text/plain": [
       "(685, 655)"
      ]
     },
     "execution_count": 30,
     "metadata": {},
     "output_type": "execute_result"
    }
   ],
   "source": [
    "false_pos, false_neg"
   ]
  },
  {
   "cell_type": "code",
   "execution_count": 32,
   "id": "00cd3336-fdaf-4a8a-8f2e-6e6945d107f0",
   "metadata": {},
   "outputs": [
    {
     "data": {
      "text/plain": [
       "0.8952"
      ]
     },
     "execution_count": 32,
     "metadata": {},
     "output_type": "execute_result"
    }
   ],
   "source": [
    "recall = true_pos / (true_pos + false_neg)\n",
    "recall"
   ]
  },
  {
   "cell_type": "code",
   "execution_count": 33,
   "id": "45377282-a01f-4254-b318-75a07ec725f3",
   "metadata": {},
   "outputs": [
    {
     "data": {
      "image/png": "[encoded data removed]",
      "text/plain": [
       "<Figure size 640x480 with 2 Axes>"
      ]
     },
     "metadata": {},
     "output_type": "display_data"
    }
   ],
   "source": [
    "ConfusionMatrixDisplay.from_estimator(pipe, X_test, y_test);"
   ]
  },
  {
   "cell_type": "code",
   "execution_count": 34,
   "id": "8af35070-660e-473f-ad39-24ba82a7538b",
   "metadata": {},
   "outputs": [
    {
     "data": {
      "image/png": "[encoded data removed]",
      "text/plain": [
       "<Figure size 640x480 with 1 Axes>"
      ]
     },
     "metadata": {},
     "output_type": "display_data"
    }
   ],
   "source": [
    "RocCurveDisplay.from_estimator(pipe, X_test, y_test);"
   ]
  },
  {
   "cell_type": "code",
   "execution_count": 43,
   "id": "aca2a678-5e85-4d36-9339-fdf8fedef986",
   "metadata": {},
   "outputs": [
    {
     "data": {
      "text/plain": [
       "array([[0.47171384, 0.52828616],\n",
       "       [0.53484501, 0.46515499],\n",
       "       [0.49434098, 0.50565902],\n",
       "       ...,\n",
       "       [0.49364521, 0.50635479],\n",
       "       [0.49337081, 0.50662919],\n",
       "       [0.49428893, 0.50571107]])"
      ]
     },
     "execution_count": 43,
     "metadata": {},
     "output_type": "execute_result"
    }
   ],
   "source": [
    "# The predict probas for the features from the model\n",
    "pipe.predict_proba(pipe[:-1].get_feature_names_out())"
   ]
  },
  {
   "cell_type": "code",
   "execution_count": 49,
   "id": "a02322ce-ffb4-406e-89ac-528e1e5df1e2",
   "metadata": {},
   "outputs": [
    {
     "data": {
      "text/html": [
       "<div>\n",
       "<style scoped>\n",
       "    .dataframe tbody tr th:only-of-type {\n",
       "        vertical-align: middle;\n",
       "    }\n",
       "\n",
       "    .dataframe tbody tr th {\n",
       "        vertical-align: top;\n",
       "    }\n",
       "\n",
       "    .dataframe thead th {\n",
       "        text-align: right;\n",
       "    }\n",
       "</style>\n",
       "<table border=\"1\" class=\"dataframe\">\n",
       "  <thead>\n",
       "    <tr style=\"text-align: right;\">\n",
       "      <th></th>\n",
       "      <th>negative</th>\n",
       "      <th>positive</th>\n",
       "    </tr>\n",
       "  </thead>\n",
       "  <tbody>\n",
       "    <tr>\n",
       "      <th>0</th>\n",
       "      <td>0.471714</td>\n",
       "      <td>0.528286</td>\n",
       "    </tr>\n",
       "    <tr>\n",
       "      <th>1</th>\n",
       "      <td>0.534845</td>\n",
       "      <td>0.465155</td>\n",
       "    </tr>\n",
       "    <tr>\n",
       "      <th>2</th>\n",
       "      <td>0.494341</td>\n",
       "      <td>0.505659</td>\n",
       "    </tr>\n",
       "    <tr>\n",
       "      <th>3</th>\n",
       "      <td>0.494007</td>\n",
       "      <td>0.505993</td>\n",
       "    </tr>\n",
       "    <tr>\n",
       "      <th>4</th>\n",
       "      <td>0.493562</td>\n",
       "      <td>0.506438</td>\n",
       "    </tr>\n",
       "    <tr>\n",
       "      <th>...</th>\n",
       "      <td>...</td>\n",
       "      <td>...</td>\n",
       "    </tr>\n",
       "    <tr>\n",
       "      <th>89997</th>\n",
       "      <td>0.493280</td>\n",
       "      <td>0.506720</td>\n",
       "    </tr>\n",
       "    <tr>\n",
       "      <th>89998</th>\n",
       "      <td>0.497322</td>\n",
       "      <td>0.502678</td>\n",
       "    </tr>\n",
       "    <tr>\n",
       "      <th>89999</th>\n",
       "      <td>0.493645</td>\n",
       "      <td>0.506355</td>\n",
       "    </tr>\n",
       "    <tr>\n",
       "      <th>90000</th>\n",
       "      <td>0.493371</td>\n",
       "      <td>0.506629</td>\n",
       "    </tr>\n",
       "    <tr>\n",
       "      <th>90001</th>\n",
       "      <td>0.494289</td>\n",
       "      <td>0.505711</td>\n",
       "    </tr>\n",
       "  </tbody>\n",
       "</table>\n",
       "<p>90002 rows × 2 columns</p>\n",
       "</div>"
      ],
      "text/plain": [
       "       negative  positive\n",
       "0      0.471714  0.528286\n",
       "1      0.534845  0.465155\n",
       "2      0.494341  0.505659\n",
       "3      0.494007  0.505993\n",
       "4      0.493562  0.506438\n",
       "...         ...       ...\n",
       "89997  0.493280  0.506720\n",
       "89998  0.497322  0.502678\n",
       "89999  0.493645  0.506355\n",
       "90000  0.493371  0.506629\n",
       "90001  0.494289  0.505711\n",
       "\n",
       "[90002 rows x 2 columns]"
      ]
     },
     "execution_count": 49,
     "metadata": {},
     "output_type": "execute_result"
    }
   ],
   "source": [
    "feature_probs = pd.DataFrame(pipe.predict_proba(pipe[:-1].get_feature_names_out()), columns = ['negative', 'positive'])\n",
    "feature_probs"
   ]
  },
  {
   "cell_type": "code",
   "execution_count": 48,
   "id": "5fcf5630-fce2-4d67-a2e1-b53edabfc497",
   "metadata": {},
   "outputs": [
    {
     "data": {
      "text/html": [
       "<div>\n",
       "<style scoped>\n",
       "    .dataframe tbody tr th:only-of-type {\n",
       "        vertical-align: middle;\n",
       "    }\n",
       "\n",
       "    .dataframe tbody tr th {\n",
       "        vertical-align: top;\n",
       "    }\n",
       "\n",
       "    .dataframe thead th {\n",
       "        text-align: right;\n",
       "    }\n",
       "</style>\n",
       "<table border=\"1\" class=\"dataframe\">\n",
       "  <thead>\n",
       "    <tr style=\"text-align: right;\">\n",
       "      <th></th>\n",
       "      <th>words</th>\n",
       "    </tr>\n",
       "  </thead>\n",
       "  <tbody>\n",
       "    <tr>\n",
       "      <th>0</th>\n",
       "      <td>00</td>\n",
       "    </tr>\n",
       "    <tr>\n",
       "      <th>1</th>\n",
       "      <td>000</td>\n",
       "    </tr>\n",
       "    <tr>\n",
       "      <th>2</th>\n",
       "      <td>00000001</td>\n",
       "    </tr>\n",
       "    <tr>\n",
       "      <th>3</th>\n",
       "      <td>00001</td>\n",
       "    </tr>\n",
       "    <tr>\n",
       "      <th>4</th>\n",
       "      <td>00015</td>\n",
       "    </tr>\n",
       "    <tr>\n",
       "      <th>...</th>\n",
       "      <td>...</td>\n",
       "    </tr>\n",
       "    <tr>\n",
       "      <th>89997</th>\n",
       "      <td>ünfaithful</td>\n",
       "    </tr>\n",
       "    <tr>\n",
       "      <th>89998</th>\n",
       "      <td>üvegtigris</td>\n",
       "    </tr>\n",
       "    <tr>\n",
       "      <th>89999</th>\n",
       "      <td>üzümcü</td>\n",
       "    </tr>\n",
       "    <tr>\n",
       "      <th>90000</th>\n",
       "      <td>ýs</td>\n",
       "    </tr>\n",
       "    <tr>\n",
       "      <th>90001</th>\n",
       "      <td>żmijewski</td>\n",
       "    </tr>\n",
       "  </tbody>\n",
       "</table>\n",
       "<p>90002 rows × 1 columns</p>\n",
       "</div>"
      ],
      "text/plain": [
       "            words\n",
       "0              00\n",
       "1             000\n",
       "2        00000001\n",
       "3           00001\n",
       "4           00015\n",
       "...           ...\n",
       "89997  ünfaithful\n",
       "89998  üvegtigris\n",
       "89999      üzümcü\n",
       "90000          ýs\n",
       "90001   żmijewski\n",
       "\n",
       "[90002 rows x 1 columns]"
      ]
     },
     "execution_count": 48,
     "metadata": {},
     "output_type": "execute_result"
    }
   ],
   "source": [
    "feature_words = pd.DataFrame(pipe[:-1].get_feature_names_out(), columns = ['words'])\n",
    "feature_words"
   ]
  },
  {
   "cell_type": "code",
   "execution_count": 56,
   "id": "c9578aa4-1d0c-4cb8-a80c-e89c05a6fd2b",
   "metadata": {},
   "outputs": [
    {
     "data": {
      "text/html": [
       "<div>\n",
       "<style scoped>\n",
       "    .dataframe tbody tr th:only-of-type {\n",
       "        vertical-align: middle;\n",
       "    }\n",
       "\n",
       "    .dataframe tbody tr th {\n",
       "        vertical-align: top;\n",
       "    }\n",
       "\n",
       "    .dataframe thead th {\n",
       "        text-align: right;\n",
       "    }\n",
       "</style>\n",
       "<table border=\"1\" class=\"dataframe\">\n",
       "  <thead>\n",
       "    <tr style=\"text-align: right;\">\n",
       "      <th></th>\n",
       "      <th>words</th>\n",
       "      <th>negative</th>\n",
       "      <th>positive</th>\n",
       "    </tr>\n",
       "  </thead>\n",
       "  <tbody>\n",
       "    <tr>\n",
       "      <th>77266</th>\n",
       "      <td>superb</td>\n",
       "      <td>0.146456</td>\n",
       "      <td>0.853544</td>\n",
       "    </tr>\n",
       "    <tr>\n",
       "      <th>76869</th>\n",
       "      <td>subtle</td>\n",
       "      <td>0.153704</td>\n",
       "      <td>0.846296</td>\n",
       "    </tr>\n",
       "    <tr>\n",
       "      <th>88313</th>\n",
       "      <td>wonderfully</td>\n",
       "      <td>0.158147</td>\n",
       "      <td>0.841853</td>\n",
       "    </tr>\n",
       "    <tr>\n",
       "      <th>31513</th>\n",
       "      <td>funniest</td>\n",
       "      <td>0.162521</td>\n",
       "      <td>0.837479</td>\n",
       "    </tr>\n",
       "    <tr>\n",
       "      <th>65318</th>\n",
       "      <td>refreshing</td>\n",
       "      <td>0.167851</td>\n",
       "      <td>0.832149</td>\n",
       "    </tr>\n",
       "    <tr>\n",
       "      <th>26230</th>\n",
       "      <td>enjoyable</td>\n",
       "      <td>0.177858</td>\n",
       "      <td>0.822142</td>\n",
       "    </tr>\n",
       "    <tr>\n",
       "      <th>77570</th>\n",
       "      <td>surprised</td>\n",
       "      <td>0.177889</td>\n",
       "      <td>0.822111</td>\n",
       "    </tr>\n",
       "    <tr>\n",
       "      <th>73924</th>\n",
       "      <td>solid</td>\n",
       "      <td>0.179349</td>\n",
       "      <td>0.820651</td>\n",
       "    </tr>\n",
       "    <tr>\n",
       "      <th>37082</th>\n",
       "      <td>hilarious</td>\n",
       "      <td>0.182866</td>\n",
       "      <td>0.817134</td>\n",
       "    </tr>\n",
       "    <tr>\n",
       "      <th>59262</th>\n",
       "      <td>perfect</td>\n",
       "      <td>0.191185</td>\n",
       "      <td>0.808815</td>\n",
       "    </tr>\n",
       "    <tr>\n",
       "      <th>7761</th>\n",
       "      <td>beautifully</td>\n",
       "      <td>0.191243</td>\n",
       "      <td>0.808757</td>\n",
       "    </tr>\n",
       "    <tr>\n",
       "      <th>28405</th>\n",
       "      <td>fantastic</td>\n",
       "      <td>0.191842</td>\n",
       "      <td>0.808158</td>\n",
       "    </tr>\n",
       "    <tr>\n",
       "      <th>6324</th>\n",
       "      <td>awesome</td>\n",
       "      <td>0.197910</td>\n",
       "      <td>0.802090</td>\n",
       "    </tr>\n",
       "    <tr>\n",
       "      <th>77573</th>\n",
       "      <td>surprisingly</td>\n",
       "      <td>0.206360</td>\n",
       "      <td>0.793640</td>\n",
       "    </tr>\n",
       "    <tr>\n",
       "      <th>32379</th>\n",
       "      <td>gem</td>\n",
       "      <td>0.207587</td>\n",
       "      <td>0.792413</td>\n",
       "    </tr>\n",
       "    <tr>\n",
       "      <th>59268</th>\n",
       "      <td>perfectly</td>\n",
       "      <td>0.216714</td>\n",
       "      <td>0.783286</td>\n",
       "    </tr>\n",
       "    <tr>\n",
       "      <th>64379</th>\n",
       "      <td>rare</td>\n",
       "      <td>0.219953</td>\n",
       "      <td>0.780047</td>\n",
       "    </tr>\n",
       "    <tr>\n",
       "      <th>3593</th>\n",
       "      <td>amazing</td>\n",
       "      <td>0.223360</td>\n",
       "      <td>0.776640</td>\n",
       "    </tr>\n",
       "    <tr>\n",
       "      <th>27372</th>\n",
       "      <td>excellent</td>\n",
       "      <td>0.225490</td>\n",
       "      <td>0.774510</td>\n",
       "    </tr>\n",
       "    <tr>\n",
       "      <th>11003</th>\n",
       "      <td>brilliantly</td>\n",
       "      <td>0.225651</td>\n",
       "      <td>0.774349</td>\n",
       "    </tr>\n",
       "  </tbody>\n",
       "</table>\n",
       "</div>"
      ],
      "text/plain": [
       "              words  negative  positive\n",
       "77266        superb  0.146456  0.853544\n",
       "76869        subtle  0.153704  0.846296\n",
       "88313   wonderfully  0.158147  0.841853\n",
       "31513      funniest  0.162521  0.837479\n",
       "65318    refreshing  0.167851  0.832149\n",
       "26230     enjoyable  0.177858  0.822142\n",
       "77570     surprised  0.177889  0.822111\n",
       "73924         solid  0.179349  0.820651\n",
       "37082     hilarious  0.182866  0.817134\n",
       "59262       perfect  0.191185  0.808815\n",
       "7761    beautifully  0.191243  0.808757\n",
       "28405     fantastic  0.191842  0.808158\n",
       "6324        awesome  0.197910  0.802090\n",
       "77573  surprisingly  0.206360  0.793640\n",
       "32379           gem  0.207587  0.792413\n",
       "59268     perfectly  0.216714  0.783286\n",
       "64379          rare  0.219953  0.780047\n",
       "3593        amazing  0.223360  0.776640\n",
       "27372     excellent  0.225490  0.774510\n",
       "11003   brilliantly  0.225651  0.774349"
      ]
     },
     "execution_count": 56,
     "metadata": {},
     "output_type": "execute_result"
    }
   ],
   "source": [
    "word_probs = feature_words.join(feature_probs)\n",
    "top_20_pos_words = word_probs.sort_values('positive', ascending = False).head(20)\n",
    "top_20_pos_words"
   ]
  },
  {
   "cell_type": "code",
   "execution_count": 71,
   "id": "b142d621-6198-4d5e-9732-2043ca4dfeb7",
   "metadata": {},
   "outputs": [
    {
     "data": {
      "image/png": "[encoded data removed]",
      "text/plain": [
       "<Figure size 1000x800 with 1 Axes>"
      ]
     },
     "metadata": {},
     "output_type": "display_data"
    }
   ],
   "source": [
    "plt.figure(figsize = (10,8))\n",
    "plt.barh(top_20_pos_words['words'], top_20_pos_words['positive'])\n",
    "plt.xlabel('% Likelihood of Being Positive', size = 10)\n",
    "plt.ylabel('Word', size = 15)\n",
    "plt.title('Top 20 Words That Predict a Positive Review')\n",
    "plt.show();"
   ]
  },
  {
   "cell_type": "code",
   "execution_count": 74,
   "id": "e051be47-29de-4622-aac9-16ea908bda2e",
   "metadata": {},
   "outputs": [
    {
     "data": {
      "text/html": [
       "<div>\n",
       "<style scoped>\n",
       "    .dataframe tbody tr th:only-of-type {\n",
       "        vertical-align: middle;\n",
       "    }\n",
       "\n",
       "    .dataframe tbody tr th {\n",
       "        vertical-align: top;\n",
       "    }\n",
       "\n",
       "    .dataframe thead th {\n",
       "        text-align: right;\n",
       "    }\n",
       "</style>\n",
       "<table border=\"1\" class=\"dataframe\">\n",
       "  <thead>\n",
       "    <tr style=\"text-align: right;\">\n",
       "      <th></th>\n",
       "      <th>words</th>\n",
       "      <th>negative</th>\n",
       "      <th>positive</th>\n",
       "    </tr>\n",
       "  </thead>\n",
       "  <tbody>\n",
       "    <tr>\n",
       "      <th>86761</th>\n",
       "      <td>waste</td>\n",
       "      <td>0.970583</td>\n",
       "      <td>0.029417</td>\n",
       "    </tr>\n",
       "    <tr>\n",
       "      <th>61201</th>\n",
       "      <td>poorly</td>\n",
       "      <td>0.923569</td>\n",
       "      <td>0.076431</td>\n",
       "    </tr>\n",
       "    <tr>\n",
       "      <th>22344</th>\n",
       "      <td>disappointment</td>\n",
       "      <td>0.918849</td>\n",
       "      <td>0.081151</td>\n",
       "    </tr>\n",
       "    <tr>\n",
       "      <th>44932</th>\n",
       "      <td>lacks</td>\n",
       "      <td>0.916230</td>\n",
       "      <td>0.083770</td>\n",
       "    </tr>\n",
       "    <tr>\n",
       "      <th>6330</th>\n",
       "      <td>awful</td>\n",
       "      <td>0.908402</td>\n",
       "      <td>0.091598</td>\n",
       "    </tr>\n",
       "    <tr>\n",
       "      <th>22342</th>\n",
       "      <td>disappointing</td>\n",
       "      <td>0.900039</td>\n",
       "      <td>0.099961</td>\n",
       "    </tr>\n",
       "    <tr>\n",
       "      <th>88557</th>\n",
       "      <td>worst</td>\n",
       "      <td>0.890042</td>\n",
       "      <td>0.109958</td>\n",
       "    </tr>\n",
       "    <tr>\n",
       "      <th>28158</th>\n",
       "      <td>fails</td>\n",
       "      <td>0.878040</td>\n",
       "      <td>0.121960</td>\n",
       "    </tr>\n",
       "    <tr>\n",
       "      <th>24367</th>\n",
       "      <td>dull</td>\n",
       "      <td>0.870194</td>\n",
       "      <td>0.129806</td>\n",
       "    </tr>\n",
       "    <tr>\n",
       "      <th>6260</th>\n",
       "      <td>avoid</td>\n",
       "      <td>0.854210</td>\n",
       "      <td>0.145790</td>\n",
       "    </tr>\n",
       "    <tr>\n",
       "      <th>37916</th>\n",
       "      <td>horrible</td>\n",
       "      <td>0.854030</td>\n",
       "      <td>0.145970</td>\n",
       "    </tr>\n",
       "    <tr>\n",
       "      <th>45110</th>\n",
       "      <td>lame</td>\n",
       "      <td>0.850881</td>\n",
       "      <td>0.149119</td>\n",
       "    </tr>\n",
       "    <tr>\n",
       "      <th>6653</th>\n",
       "      <td>badly</td>\n",
       "      <td>0.845284</td>\n",
       "      <td>0.154716</td>\n",
       "    </tr>\n",
       "    <tr>\n",
       "      <th>50893</th>\n",
       "      <td>mess</td>\n",
       "      <td>0.840969</td>\n",
       "      <td>0.159031</td>\n",
       "    </tr>\n",
       "    <tr>\n",
       "      <th>45530</th>\n",
       "      <td>laughable</td>\n",
       "      <td>0.840648</td>\n",
       "      <td>0.159352</td>\n",
       "    </tr>\n",
       "    <tr>\n",
       "      <th>30536</th>\n",
       "      <td>forgettable</td>\n",
       "      <td>0.835471</td>\n",
       "      <td>0.164529</td>\n",
       "    </tr>\n",
       "    <tr>\n",
       "      <th>50380</th>\n",
       "      <td>mediocre</td>\n",
       "      <td>0.833225</td>\n",
       "      <td>0.166775</td>\n",
       "    </tr>\n",
       "    <tr>\n",
       "      <th>65108</th>\n",
       "      <td>redeeming</td>\n",
       "      <td>0.827846</td>\n",
       "      <td>0.172154</td>\n",
       "    </tr>\n",
       "    <tr>\n",
       "      <th>79043</th>\n",
       "      <td>tedious</td>\n",
       "      <td>0.814406</td>\n",
       "      <td>0.185594</td>\n",
       "    </tr>\n",
       "    <tr>\n",
       "      <th>86763</th>\n",
       "      <td>wasted</td>\n",
       "      <td>0.812335</td>\n",
       "      <td>0.187665</td>\n",
       "    </tr>\n",
       "  </tbody>\n",
       "</table>\n",
       "</div>"
      ],
      "text/plain": [
       "                words  negative  positive\n",
       "86761           waste  0.970583  0.029417\n",
       "61201          poorly  0.923569  0.076431\n",
       "22344  disappointment  0.918849  0.081151\n",
       "44932           lacks  0.916230  0.083770\n",
       "6330            awful  0.908402  0.091598\n",
       "22342   disappointing  0.900039  0.099961\n",
       "88557           worst  0.890042  0.109958\n",
       "28158           fails  0.878040  0.121960\n",
       "24367            dull  0.870194  0.129806\n",
       "6260            avoid  0.854210  0.145790\n",
       "37916        horrible  0.854030  0.145970\n",
       "45110            lame  0.850881  0.149119\n",
       "6653            badly  0.845284  0.154716\n",
       "50893            mess  0.840969  0.159031\n",
       "45530       laughable  0.840648  0.159352\n",
       "30536     forgettable  0.835471  0.164529\n",
       "50380        mediocre  0.833225  0.166775\n",
       "65108       redeeming  0.827846  0.172154\n",
       "79043         tedious  0.814406  0.185594\n",
       "86763          wasted  0.812335  0.187665"
      ]
     },
     "execution_count": 74,
     "metadata": {},
     "output_type": "execute_result"
    }
   ],
   "source": [
    "top_20_neg_words = word_probs.sort_values('negative', ascending = False).head(20)\n",
    "top_20_neg_words"
   ]
  },
  {
   "cell_type": "code",
   "execution_count": 77,
   "id": "ce6e87e8-4942-46e4-8104-eb645642da94",
   "metadata": {},
   "outputs": [
    {
     "data": {
      "image/png": "[encoded data removed]",
      "text/plain": [
       "<Figure size 1000x800 with 1 Axes>"
      ]
     },
     "metadata": {},
     "output_type": "display_data"
    }
   ],
   "source": [
    "plt.figure(figsize = (10,8))\n",
    "plt.barh(top_20_neg_words['words'], top_20_neg_words['negative'])\n",
    "plt.xlabel('% Likelihood of Being Negative', size = 10)\n",
    "plt.ylabel('Word', size = 15)\n",
    "plt.title('Top 20 Words That Predict a Positive Review')\n",
    "plt.show();"
   ]
  },
  {
   "cell_type": "markdown",
   "id": "31e556f6-5646-4b24-948b-0dd9b87fe1e9",
   "metadata": {},
   "source": [
    "### Grid Search over Pipeline"
   ]
  },
  {
   "cell_type": "code",
   "execution_count": 9,
   "id": "87af53fc-0b5b-4c24-a8eb-d0508ec9c68b",
   "metadata": {},
   "outputs": [],
   "source": [
    "gs = GridSearchCV(pipe, pipe_params, n_jobs = -1)"
   ]
  },
  {
   "cell_type": "code",
   "execution_count": 10,
   "id": "811c8347-5cfb-45f6-9a3f-bd9943e3187a",
   "metadata": {},
   "outputs": [
    {
     "name": "stderr",
     "output_type": "stream",
     "text": [
      "C:\\Users\\david\\anaconda3\\Lib\\site-packages\\sklearn\\linear_model\\_logistic.py:458: ConvergenceWarning: lbfgs failed to converge (status=1):\n",
      "STOP: TOTAL NO. of ITERATIONS REACHED LIMIT.\n",
      "\n",
      "Increase the number of iterations (max_iter) or scale the data as shown in:\n",
      "    https://scikit-learn.org/stable/modules/preprocessing.html\n",
      "Please also refer to the documentation for alternative solver options:\n",
      "    https://scikit-learn.org/stable/modules/linear_model.html#logistic-regression\n",
      "  n_iter_i = _check_optimize_result(\n"
     ]
    },
    {
     "data": {
      "text/html": [
       "<style>#sk-container-id-1 {color: black;background-color: white;}#sk-container-id-1 pre{padding: 0;}#sk-container-id-1 div.sk-toggleable {background-color: white;}#sk-container-id-1 label.sk-toggleable__label {cursor: pointer;display: block;width: 100%;margin-bottom: 0;padding: 0.3em;box-sizing: border-box;text-align: center;}#sk-container-id-1 label.sk-toggleable__label-arrow:before {content: \"▸\";float: left;margin-right: 0.25em;color: #696969;}#sk-container-id-1 label.sk-toggleable__label-arrow:hover:before {color: black;}#sk-container-id-1 div.sk-estimator:hover label.sk-toggleable__label-arrow:before {color: black;}#sk-container-id-1 div.sk-toggleable__content {max-height: 0;max-width: 0;overflow: hidden;text-align: left;background-color: #f0f8ff;}#sk-container-id-1 div.sk-toggleable__content pre {margin: 0.2em;color: black;border-radius: 0.25em;background-color: #f0f8ff;}#sk-container-id-1 input.sk-toggleable__control:checked~div.sk-toggleable__content {max-height: 200px;max-width: 100%;overflow: auto;}#sk-container-id-1 input.sk-toggleable__control:checked~label.sk-toggleable__label-arrow:before {content: \"▾\";}#sk-container-id-1 div.sk-estimator input.sk-toggleable__control:checked~label.sk-toggleable__label {background-color: #d4ebff;}#sk-container-id-1 div.sk-label input.sk-toggleable__control:checked~label.sk-toggleable__label {background-color: #d4ebff;}#sk-container-id-1 input.sk-hidden--visually {border: 0;clip: rect(1px 1px 1px 1px);clip: rect(1px, 1px, 1px, 1px);height: 1px;margin: -1px;overflow: hidden;padding: 0;position: absolute;width: 1px;}#sk-container-id-1 div.sk-estimator {font-family: monospace;background-color: #f0f8ff;border: 1px dotted black;border-radius: 0.25em;box-sizing: border-box;margin-bottom: 0.5em;}#sk-container-id-1 div.sk-estimator:hover {background-color: #d4ebff;}#sk-container-id-1 div.sk-parallel-item::after {content: \"\";width: 100%;border-bottom: 1px solid gray;flex-grow: 1;}#sk-container-id-1 div.sk-label:hover label.sk-toggleable__label {background-color: #d4ebff;}#sk-container-id-1 div.sk-serial::before {content: \"\";position: absolute;border-left: 1px solid gray;box-sizing: border-box;top: 0;bottom: 0;left: 50%;z-index: 0;}#sk-container-id-1 div.sk-serial {display: flex;flex-direction: column;align-items: center;background-color: white;padding-right: 0.2em;padding-left: 0.2em;position: relative;}#sk-container-id-1 div.sk-item {position: relative;z-index: 1;}#sk-container-id-1 div.sk-parallel {display: flex;align-items: stretch;justify-content: center;background-color: white;position: relative;}#sk-container-id-1 div.sk-item::before, #sk-container-id-1 div.sk-parallel-item::before {content: \"\";position: absolute;border-left: 1px solid gray;box-sizing: border-box;top: 0;bottom: 0;left: 50%;z-index: -1;}#sk-container-id-1 div.sk-parallel-item {display: flex;flex-direction: column;z-index: 1;position: relative;background-color: white;}#sk-container-id-1 div.sk-parallel-item:first-child::after {align-self: flex-end;width: 50%;}#sk-container-id-1 div.sk-parallel-item:last-child::after {align-self: flex-start;width: 50%;}#sk-container-id-1 div.sk-parallel-item:only-child::after {width: 0;}#sk-container-id-1 div.sk-dashed-wrapped {border: 1px dashed gray;margin: 0 0.4em 0.5em 0.4em;box-sizing: border-box;padding-bottom: 0.4em;background-color: white;}#sk-container-id-1 div.sk-label label {font-family: monospace;font-weight: bold;display: inline-block;line-height: 1.2em;}#sk-container-id-1 div.sk-label-container {text-align: center;}#sk-container-id-1 div.sk-container {/* jupyter's `normalize.less` sets `[hidden] { display: none; }` but bootstrap.min.css set `[hidden] { display: none !important; }` so we also need the `!important` here to be able to override the default hidden behavior on the sphinx rendered scikit-learn.org. See: https://github.com/scikit-learn/scikit-learn/issues/21755 */display: inline-block !important;position: relative;}#sk-container-id-1 div.sk-text-repr-fallback {display: none;}</style><div id=\"sk-container-id-1\" class=\"sk-top-container\"><div class=\"sk-text-repr-fallback\"><pre>GridSearchCV(estimator=Pipeline(steps=[(&#x27;cvec&#x27;, CountVectorizer()),\n",
       "                                       (&#x27;lr&#x27;, LogisticRegression())]),\n",
       "             n_jobs=-1,\n",
       "             param_grid={&#x27;cvec__max_features&#x27;: [5000, 10000, 15000, 20000],\n",
       "                         &#x27;cvec__ngram_range&#x27;: [(1, 1), (1, 2)],\n",
       "                         &#x27;cvec__stop_words&#x27;: [&#x27;english&#x27;]})</pre><b>In a Jupyter environment, please rerun this cell to show the HTML representation or trust the notebook. <br />On GitHub, the HTML representation is unable to render, please try loading this page with nbviewer.org.</b></div><div class=\"sk-container\" hidden><div class=\"sk-item sk-dashed-wrapped\"><div class=\"sk-label-container\"><div class=\"sk-label sk-toggleable\"><input class=\"sk-toggleable__control sk-hidden--visually\" id=\"sk-estimator-id-1\" type=\"checkbox\" ><label for=\"sk-estimator-id-1\" class=\"sk-toggleable__label sk-toggleable__label-arrow\">GridSearchCV</label><div class=\"sk-toggleable__content\"><pre>GridSearchCV(estimator=Pipeline(steps=[(&#x27;cvec&#x27;, CountVectorizer()),\n",
       "                                       (&#x27;lr&#x27;, LogisticRegression())]),\n",
       "             n_jobs=-1,\n",
       "             param_grid={&#x27;cvec__max_features&#x27;: [5000, 10000, 15000, 20000],\n",
       "                         &#x27;cvec__ngram_range&#x27;: [(1, 1), (1, 2)],\n",
       "                         &#x27;cvec__stop_words&#x27;: [&#x27;english&#x27;]})</pre></div></div></div><div class=\"sk-parallel\"><div class=\"sk-parallel-item\"><div class=\"sk-item\"><div class=\"sk-label-container\"><div class=\"sk-label sk-toggleable\"><input class=\"sk-toggleable__control sk-hidden--visually\" id=\"sk-estimator-id-2\" type=\"checkbox\" ><label for=\"sk-estimator-id-2\" class=\"sk-toggleable__label sk-toggleable__label-arrow\">estimator: Pipeline</label><div class=\"sk-toggleable__content\"><pre>Pipeline(steps=[(&#x27;cvec&#x27;, CountVectorizer()), (&#x27;lr&#x27;, LogisticRegression())])</pre></div></div></div><div class=\"sk-serial\"><div class=\"sk-item\"><div class=\"sk-serial\"><div class=\"sk-item\"><div class=\"sk-estimator sk-toggleable\"><input class=\"sk-toggleable__control sk-hidden--visually\" id=\"sk-estimator-id-3\" type=\"checkbox\" ><label for=\"sk-estimator-id-3\" class=\"sk-toggleable__label sk-toggleable__label-arrow\">CountVectorizer</label><div class=\"sk-toggleable__content\"><pre>CountVectorizer()</pre></div></div></div><div class=\"sk-item\"><div class=\"sk-estimator sk-toggleable\"><input class=\"sk-toggleable__control sk-hidden--visually\" id=\"sk-estimator-id-4\" type=\"checkbox\" ><label for=\"sk-estimator-id-4\" class=\"sk-toggleable__label sk-toggleable__label-arrow\">LogisticRegression</label><div class=\"sk-toggleable__content\"><pre>LogisticRegression()</pre></div></div></div></div></div></div></div></div></div></div></div></div>"
      ],
      "text/plain": [
       "GridSearchCV(estimator=Pipeline(steps=[('cvec', CountVectorizer()),\n",
       "                                       ('lr', LogisticRegression())]),\n",
       "             n_jobs=-1,\n",
       "             param_grid={'cvec__max_features': [5000, 10000, 15000, 20000],\n",
       "                         'cvec__ngram_range': [(1, 1), (1, 2)],\n",
       "                         'cvec__stop_words': ['english']})"
      ]
     },
     "execution_count": 10,
     "metadata": {},
     "output_type": "execute_result"
    }
   ],
   "source": [
    "gs.fit(X_train, y_train)"
   ]
  },
  {
   "cell_type": "code",
   "execution_count": 11,
   "id": "a1abea4f-2a78-420f-bf27-eeeb2473ce62",
   "metadata": {},
   "outputs": [
    {
     "data": {
      "text/plain": [
       "0.8768533333333334"
      ]
     },
     "execution_count": 11,
     "metadata": {},
     "output_type": "execute_result"
    }
   ],
   "source": [
    "gs.best_score_"
   ]
  },
  {
   "cell_type": "code",
   "execution_count": 12,
   "id": "edb3abd2-b947-4f4c-94b5-322ef6d00ca9",
   "metadata": {},
   "outputs": [
    {
     "data": {
      "text/plain": [
       "{'cvec__max_features': 20000,\n",
       " 'cvec__ngram_range': (1, 2),\n",
       " 'cvec__stop_words': 'english'}"
      ]
     },
     "execution_count": 12,
     "metadata": {},
     "output_type": "execute_result"
    }
   ],
   "source": [
    "gs.best_params_"
   ]
  },
  {
   "cell_type": "markdown",
   "id": "59b1fc9e-617c-4a32-9147-45b6a19cb627",
   "metadata": {},
   "source": [
    "### Grid Search Model Evaluation"
   ]
  },
  {
   "cell_type": "code",
   "execution_count": 36,
   "id": "d7297d0f-26f2-49da-8208-b0068cc46582",
   "metadata": {},
   "outputs": [
    {
     "data": {
      "text/plain": [
       "(0.9972, 0.88328)"
      ]
     },
     "execution_count": 36,
     "metadata": {},
     "output_type": "execute_result"
    }
   ],
   "source": [
    "gs.score(X_train, y_train), gs.score(X_test, y_test)"
   ]
  },
  {
   "cell_type": "code",
   "execution_count": 17,
   "id": "82d748d0-205f-4e07-8ae1-be7e7857a7f9",
   "metadata": {},
   "outputs": [],
   "source": [
    "gs_pred = gs.predict(X_test)"
   ]
  },
  {
   "cell_type": "code",
   "execution_count": 37,
   "id": "9272b885-bd47-4db1-a926-c0c16cea5006",
   "metadata": {},
   "outputs": [
    {
     "data": {
      "image/png": "[encoded data removed]",
      "text/plain": [
       "<Figure size 640x480 with 2 Axes>"
      ]
     },
     "metadata": {},
     "output_type": "display_data"
    }
   ],
   "source": [
    "ConfusionMatrixDisplay.from_estimator(gs, X_test, y_test);"
   ]
  },
  {
   "cell_type": "code",
   "execution_count": 39,
   "id": "f2dc0f78-87cc-428c-8e4c-328bcd5702d4",
   "metadata": {},
   "outputs": [
    {
     "data": {
      "image/png": "[encoded data removed]",
      "text/plain": [
       "<Figure size 640x480 with 1 Axes>"
      ]
     },
     "metadata": {},
     "output_type": "display_data"
    }
   ],
   "source": [
    "RocCurveDisplay.from_estimator(gs, X_test, y_test);"
   ]
  },
  {
   "cell_type": "code",
   "execution_count": null,
   "id": "f7ac2006-a5e1-4926-a70a-0fccb4f0fd0c",
   "metadata": {},
   "outputs": [],
   "source": []
  }
 ],
 "metadata": {
  "kernelspec": {
   "display_name": "Python 3 (ipykernel)",
   "language": "python",
   "name": "python3"
  },
  "language_info": {
   "codemirror_mode": {
    "name": "ipython",
    "version": 3
   },
   "file_extension": ".py",
   "mimetype": "text/x-python",
   "name": "python",
   "nbconvert_exporter": "python",
   "pygments_lexer": "ipython3",
   "version": "3.11.7"
  }
 },
 "nbformat": 4,
 "nbformat_minor": 5
}
